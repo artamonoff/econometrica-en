{
 "cells": [
  {
   "cell_type": "markdown",
   "id": "e927d448",
   "metadata": {},
   "source": [
    "# Goodness-of-fit, Fitted values, Residuals"
   ]
  },
  {
   "cell_type": "code",
   "execution_count": null,
   "id": "5139589a",
   "metadata": {},
   "outputs": [],
   "source": [
    "import pandas as pd\n",
    "import numpy as np\n",
    "import statsmodels.formula.api as smf\n",
    "import statsmodels.api as sm"
   ]
  },
  {
   "cell_type": "code",
   "execution_count": null,
   "id": "0cd33004",
   "metadata": {},
   "outputs": [],
   "source": [
    "# import sleep75 dataset\n",
    "df_sleep = pd.read_csv('sleep75.csv')\n",
    "df_sleep.shape # dataset size"
   ]
  },
  {
   "cell_type": "markdown",
   "id": "ee24fa48",
   "metadata": {},
   "source": [
    "## Regression model\n",
    "Consider a regression **sleep on totwrk & age**\n",
    "Its specification is \n",
    "$$sleep=\\beta_0+\\beta_1totwrk+\\beta_2age+u $$\n",
    "Here\n",
    "* sleep is an endogenous/dependent variable\n",
    "* totwrk & age are exogenous/explanatory varables, predictors\n",
    "\n",
    "Fitting result"
   ]
  },
  {
   "cell_type": "code",
   "execution_count": null,
   "id": "bb7c6d3c",
   "metadata": {},
   "outputs": [],
   "source": [
    "mod = smf.ols(formula='sleep~totwrk+age', data=df_sleep).fit()\n",
    "# estimated coefficients: .params property\n",
    "mod.params"
   ]
  },
  {
   "cell_type": "markdown",
   "id": "aa248af0",
   "metadata": {},
   "source": [
    "## TSS, ESS, RSS\n",
    "Related sums of squares\n",
    "\\begin{align*}\n",
    "TSS&=\\sum_{i=1}^n(y_i-\\bar{y})^2 & ESS&=\\sum_{i=1}^n(\\hat{y}_i-\\bar{y})^2 & \n",
    "RSS&=\\sum_{i=1}^n(y_i-\\hat{y}_i)^2=\\sum_{i=1}^n e_i^2\n",
    "\\end{align*}"
   ]
  },
  {
   "cell_type": "code",
   "execution_count": null,
   "id": "7bbde3db",
   "metadata": {},
   "outputs": [],
   "source": [
    "print('TSS=', mod.centered_tss)\n",
    "print('ESS=', mod.ess)\n",
    "print('RSS=', mod.ssr)"
   ]
  },
  {
   "cell_type": "markdown",
   "id": "eabc291e",
   "metadata": {},
   "source": [
    "For these sums a Pythagorean theorem is true, i.e. $TSS=ESS+RSS$ or $TSS-ESS-RSS=0$"
   ]
  },
  {
   "cell_type": "code",
   "execution_count": null,
   "id": "bd6d6788",
   "metadata": {},
   "outputs": [],
   "source": [
    "mod.centered_tss-mod.ess-mod.ssr"
   ]
  },
  {
   "cell_type": "markdown",
   "id": "eab987e4",
   "metadata": {},
   "source": [
    "## Goodness-of-fit\n",
    "Goodness-of-fit measure: R-squared\n",
    "$$R^2=\\frac{ESS}{TSS}=1-\\frac{RSS}{TSS} $$\n",
    "Who do we interpret it?"
   ]
  },
  {
   "cell_type": "code",
   "execution_count": null,
   "id": "2634040a",
   "metadata": {},
   "outputs": [],
   "source": [
    "mod.rsquared"
   ]
  },
  {
   "cell_type": "code",
   "execution_count": null,
   "id": "07175681",
   "metadata": {},
   "outputs": [],
   "source": [
    "1-mod.ssr/mod.centered_tss"
   ]
  },
  {
   "cell_type": "markdown",
   "id": "f1025de0",
   "metadata": {},
   "source": [
    "Adjusted R-squared $R^2_{adj}=1-(1-R^2)*\\frac{n-1}{n-k-1}$"
   ]
  },
  {
   "cell_type": "code",
   "execution_count": null,
   "id": "ce21dc23",
   "metadata": {},
   "outputs": [],
   "source": [
    "mod.rsquared_adj"
   ]
  },
  {
   "cell_type": "markdown",
   "id": "b4bfa671",
   "metadata": {},
   "source": [
    "## Fitted values & Residuals\n",
    "Fitted values, dependent variable, residuals for observations with indices [0, 3, 78, 197, 401, 561]"
   ]
  },
  {
   "cell_type": "code",
   "execution_count": null,
   "id": "db8a9b44",
   "metadata": {},
   "outputs": [],
   "source": [
    "ind = [0, 3, 78, 197, 401, 561]\n",
    "# Dependent variable\n",
    "df_sleep['sleep'].iloc[ind]"
   ]
  },
  {
   "cell_type": "code",
   "execution_count": null,
   "id": "7891bb0e",
   "metadata": {},
   "outputs": [],
   "source": [
    "# Fitted values\n",
    "mod.fittedvalues[ind]"
   ]
  },
  {
   "cell_type": "code",
   "execution_count": null,
   "id": "4345c0b6",
   "metadata": {},
   "outputs": [],
   "source": [
    "# Residuals\n",
    "mod.resid[ind]"
   ]
  },
  {
   "cell_type": "code",
   "execution_count": null,
   "id": "f8fae213",
   "metadata": {},
   "outputs": [],
   "source": [
    "# In a table/DataFrame\n",
    "df = pd.DataFrame({'Dependent':df_sleep['sleep'].iloc[ind], 'Fitted':mod.fittedvalues[ind], 'Residual':mod.resid[ind]})\n",
    "df"
   ]
  },
  {
   "cell_type": "code",
   "execution_count": null,
   "id": "9b258959",
   "metadata": {},
   "outputs": [],
   "source": []
  }
 ],
 "metadata": {
  "kernelspec": {
   "display_name": "Python 3 (ipykernel)",
   "language": "python",
   "name": "python3"
  },
  "language_info": {
   "codemirror_mode": {
    "name": "ipython",
    "version": 3
   },
   "file_extension": ".py",
   "mimetype": "text/x-python",
   "name": "python",
   "nbconvert_exporter": "python",
   "pygments_lexer": "ipython3",
   "version": "3.9.16"
  }
 },
 "nbformat": 4,
 "nbformat_minor": 5
}
