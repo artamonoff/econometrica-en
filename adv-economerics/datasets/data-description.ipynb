{
 "cells": [
  {
   "cell_type": "markdown",
   "metadata": {},
   "source": [
    "# Описание датасетов"
   ]
  },
  {
   "cell_type": "markdown",
   "metadata": {},
   "source": [
    "## sleep75\n",
    "\n",
    "*number of observations* : 706\n",
    "\n",
    "- age: in years\n",
    "- black: =1 if black\n",
    "- case: identifier\n",
    "- clerical: =1 if clerical worker\n",
    "- construc: =1 if construction worker\n",
    "- educ: years of schooling\n",
    "- earns74: total earnings, 1974\n",
    "- gdhlth: =1 if in good or excel. health - inlf: =1 if in labor force\n",
    "- leis1: sleep - totwrk\n",
    "- leis2: slpnaps - totwrk\n",
    "- leis3: rlxall - totwrk\n",
    "- smsa: =1 if live in smsa\n",
    "- lhrwage: log hourly wage\n",
    "- lothinc: log othinc, unless othinc < 0\n",
    "- male: =1 if male\n",
    "- marr: =1 if married\n",
    "- prot: =1 if Protestant\n",
    "- rlxall: slpnaps + personal activs\n",
    "- selfe: =1 if self employed\n",
    "- sleep: mins sleep at night, per wk\n",
    "- slpnaps: minutes sleep, inc. naps\n",
    "- south: =1 if live in south\n",
    "- spsepay: spousal wage income\n",
    "- spwrk75: =1 if spouse works\n",
    "- totwrk: mins worked per week\n",
    "- union: =1 if belong to union\n",
    "- worknrm: mins work main job\n",
    "- workscnd: mins work second job\n",
    "- exper: age - educ - 6\n",
    "- yngkid: =1 if children < 3 present\n",
    "- yrsmarr: years married\n",
    "- hrwage: hourly wage\n",
    "- agesq: age^2\n",
    "\n",
    "*Источник*: Wooldridge Source: J.E. Biddle and D.S. Hamermesh (1990), “Sleep and the Allocation of Time,” Journal of Political Economy 98, 922-943"
   ]
  },
  {
   "cell_type": "markdown",
   "metadata": {},
   "source": [
    "## Electricity\n",
    "\n",
    "*number of observations* : 158\n",
    "\n",
    "- cost total cost\n",
    "- q total output\n",
    "- pl wage rate\n",
    "- sl cost share for labor\n",
    "- pk capital price index\n",
    "- sk cost share for capital\n",
    "- pf fuel price\n",
    "- sf cost share for fuel\n",
    "\n",
    "*Источник*: Christensen, L. and W. H. Greene (1976) “Economies of scale in U.S. electric power generation”, Journal of Political Economy, 84, 655-676."
   ]
  },
  {
   "cell_type": "markdown",
   "metadata": {},
   "source": [
    "## Diamond\n",
    "\n",
    "*number of observations* : 308\n",
    "\n",
    "- carat weight of diamond stones in carat unit\n",
    "- colour a factor with levels (D,E,F,G,H,I)\n",
    "- clarity a factor with levels (IF,VVS1,VVS2,VS1,VS2)\n",
    "- certification certification body, a factor with levels ( GIA, IGI, HRD)\n",
    "- price price in Singapore $\n",
    "\n",
    "*Источник*: Chu, Singfat (2001) “Pricing the C’s of Diamond Stones”, Journal of Statistics Education, 9(2)."
   ]
  },
  {
   "cell_type": "markdown",
   "metadata": {},
   "source": [
    "## Labour (Belgian firms)\n",
    "\n",
    "*number of observations* : 569\n",
    "\n",
    "- capital total fixed assets, end of 1995 (in 1000000 euro)\n",
    "- labour number of workers (employment)\n",
    "- output value added (in 1000000 euro)\n",
    "- wage wage costs per worker (in 1000 euro)\n",
    "\n",
    "*Источник*: Verbeek, Marno (2004) A Guide to Modern Econometrics, John Wiley and Sons, chapter 4.\n"
   ]
  },
  {
   "cell_type": "markdown",
   "metadata": {},
   "source": [
    "## diamonds (Prices of over 50,000 round cut diamonds)\n",
    "\n",
    "*number of observations* : 53940\n",
    "\n",
    "- price price in US dollars ($326–$18,823)\n",
    "- carat weight of the diamond (0.2–5.01)\n",
    "- cut quality of the cut (Fair, Good, Very Good, Premium, Ideal) \n",
    "- color diamond colour, from D (best) to J (worst)\n",
    "- clarity a measurement of how clear the diamond is (I1 (worst), SI2, SI1, VS2, VS1, VVS2, VVS1, IF (best))\n",
    "- x length in mm (0–10.74)\n",
    "- y width in mm (0–58.9)\n",
    "- z depth in mm (0–31.8)\n",
    "- depth total depth percentage = z / mean(x, y) = 2 * z / (x + y) (43–79)\n",
    "- table width of top of diamond relative to widest point (43–95)\n",
    "\n",
    "*Источник*: пакет ggplot2 для R"
   ]
  },
  {
   "cell_type": "markdown",
   "metadata": {},
   "source": [
    "## wage1\n",
    "\n",
    "A dataset with 526 observations on 24 variables\n",
    "\n",
    "* wage: average hourly earnings\n",
    "* educ: years of education\n",
    "* exper: years potential experience\n",
    "* tenure: years with current employer\n",
    "* nonwhite: =1 if nonwhite\n",
    "* female: =1 if female\n",
    "* married: =1 if married\n",
    "* numdep: number of dependents\n",
    "* smsa: =1 if live in SMSA\n",
    "* northcen: =1 if live in north central U.S\n",
    "* south: =1 if live in southern region\n",
    "* west: =1 if live in western region\n",
    "* construc: =1 if work in construc. indus.\n",
    "* ndurman: =1 if in nondur. manuf. indus. * trcommpu: =1 if in trans, commun, pub ut * trade: =1 if in wholesale or retail\n",
    "* services: =1 if in services indus.\n",
    "* profserv: =1 if in prof. serv. indus.\n",
    "* profocc: =1 if in profess. occupation\n",
    "* clerocc: =1 if in clerical occupation\n",
    "* servocc: =1 if in service occupation\n",
    "* lwage: log(wage)\n",
    "* expersq: exper^2\n",
    "* tenursq: tenure^2\n"
   ]
  },
  {
   "cell_type": "markdown",
   "metadata": {},
   "source": [
    "## wage2\n",
    "\n",
    "A dataset with 935 observations on 17 variables:\n",
    "\n",
    "* wage: monthly earnings\n",
    "* hours: average weekly hours\n",
    "* IQ: IQ score\n",
    "* KWW: knowledge of world work score * educ: years of education\n",
    "* exper: years of work experience\n",
    "* tenure: years with current employer\n",
    "* age: age in years\n",
    "* married: =1 if married\n",
    "* black: =1 if black\n",
    "* south: =1 if live in south\n",
    "* urban: =1 if live in SMSA\n",
    "* sibs: number of siblings\n",
    "* brthord: birth order\n",
    "* meduc: mother’s education\n",
    "* feduc: father’s education\n",
    "* lwage: natural log of wage\n",
    "\n",
    "*Источник*: M. Blackburn and D. Neumark (1992), “Unobserved Ability, Efficiency Wages, and Interindustry Wage Differentials,” Quarterly Journal of Economics 107, 1421-1436."
   ]
  },
  {
   "cell_type": "markdown",
   "metadata": {},
   "source": [
    "## Student Performance\n",
    "\n",
    "The Student Performance Dataset is a dataset designed to examine the factors influencing academic student performance. The dataset consists of 10,000 student records, with each record containing information about various predictors and a performance index.\n",
    "\n",
    "__Variables:__\n",
    "* __Hours Studied:__ The total number of hours spent studying by each student.\n",
    "* __Previous Scores:__ The scores obtained by students in previous tests.\n",
    "* __Extracurricular Activities:__ Whether the student participates in extracurricular activities (Yes or No).\n",
    "* __Sleep Hours:__ The average number of hours of sleep the student had per day.\n",
    "* __Sample Question Papers Practiced:__ The number of sample question papers the student practiced.\n",
    "\n",
    "__Target Variable:__\n",
    "* __Performance Index:__ A measure of the overall performance of each student. The performance index represents the student's academic performance and has been rounded to the nearest integer. The index ranges from 10 to 100, with higher values indicating better performance.\n",
    "\n",
    "*Источник*: [Kaggle](https://www.kaggle.com/datasets/nikhil7280/student-performance-multiple-linear-regression)\n",
    "\n",
    "__P.S:__ Please note that this dataset is synthetic and created for illustrative purposes. The relationships between the variables and the performance index may not reflect real-world scenarios"
   ]
  },
  {
   "cell_type": "markdown",
   "metadata": {},
   "source": [
    "## Mishkin\n",
    "\n",
    "monthly observations from 1950-2 to 1990-12\n",
    "\n",
    "*number of observations* : 491\n",
    "\n",
    "*country* : United States\n",
    "\n",
    "- pai1: one-month inflation rate (in percent, annual rate)\n",
    "- pai3: three-month inflation rate (in percent, annual rate)\n",
    "- tb1: one-month T-bill rate (in percent, annual rate)\n",
    "- tb3: three-month T-bill rate (in percent, annual rate)\n",
    "- cpi: CPI for urban consumers, all items (the 1982-1984 average is set to 100)\n",
    "\n",
    "*Источник*: Mishkin, F. (1992) “Is the Fisher effect for real ?”, Journal of Monetary Economics, 30, 195-215."
   ]
  },
  {
   "cell_type": "markdown",
   "metadata": {},
   "source": [
    "## Tbrate\n",
    "\n",
    "*quarterly observations* from 1950-1 to 1996-4\n",
    "\n",
    "*number of observations* : 188\n",
    "\n",
    "*country* : Canada\n",
    "\n",
    "- r: the 91-day treasury bill rate\n",
    "- y: the log of real GDP\n",
    "- pi: the inflation rate"
   ]
  },
  {
   "cell_type": "markdown",
   "metadata": {},
   "source": [
    "## Icecream\n",
    "\n",
    "*four–weekly observations* from 1951–03–18 to 1953–07–11\n",
    "\n",
    "*number of observations* : 30\n",
    "\n",
    "*country* : United States\n",
    "\n",
    "- cons: consumption of ice cream per head (in pints);\n",
    "- income: average family income per week (in US Dollars);\n",
    "- price: price of ice cream (per pint);\n",
    "- temp: average temperature (in Fahrenheit);\n",
    "\n",
    "*Источник*: Hildreth, C. and J. Lu (1960) Demand relations with autocorrelated disturbances, Technical Bulletin No 2765, Michigan State University.\n"
   ]
  },
  {
   "cell_type": "markdown",
   "metadata": {},
   "source": [
    "## Consumption\n",
    "\n",
    "*quarterly observations8 from 1947-1 to 1996-4\n",
    "\n",
    "*number of observations* : 200\n",
    "\n",
    "*country* : Canada\n",
    "\n",
    "- yd: personal disposable income, 1986 dollars\n",
    "- ce: personal consumption expenditure, 1986 dollars\n",
    "\n",
    "*Источник*: Davidson, R. and James G. MacKinnon (2004) Econometric Theory and Methods, New York, Ox-\n",
    "ford University Press, chapter 1, 3, 4, 6, 9, 10, 14 and 15."
   ]
  },
  {
   "cell_type": "markdown",
   "metadata": {},
   "source": [
    "## MoneyUS\n",
    "\n",
    "*quarterly observations* from 1954–01 to 1994–12\n",
    "\n",
    "*number of observations* : 164\n",
    "\n",
    "*country* : United States\n",
    "\n",
    "- m: log of real M1 money stock\n",
    "- infl: quarterly inflation rate (change in log prices), % per year\n",
    "- cpr: commercial paper rate, % per year\n",
    "- y: log real GDP (in billions of 1987 dollars)\n",
    "- tbr: treasury bill rate\n",
    "\n",
    "*Источник*: Hoffman, D.L. and R.H. Rasche (1996) “Assessing forecast performance in a cointegrated system”,\n",
    "Journal of Applied Econometrics, 11, 495–517."
   ]
  },
  {
   "cell_type": "markdown",
   "metadata": {},
   "source": [
    "## Macrodat\n",
    "\n",
    "*quarterly observations* from 1959-1 to 2000-4\n",
    "\n",
    "*number of observations* : 168\n",
    "\n",
    "*country* : United States\n",
    "\n",
    "- lhur: unemployment rate (average of months in quarter)\n",
    "- punew: CPI (Average of Months in Quarter)\n",
    "- fyff: federal funds interest rate (last month in quarter)\n",
    "- fygm3: 3 month treasury bill interest rate (last month in quarter)\n",
    "- fygt1: 1 year treasury bond interest rate (last month in quarter)\n",
    "- exruk: dollar / Pound exchange rate (last month in quarter)\n",
    "- gdpjp: real GDP for Japan\n",
    "\n",
    "*Источник*: Bureau of Labor Statistics, OECD, Federal Reserve."
   ]
  }
 ],
 "metadata": {
  "language_info": {
   "name": "python"
  }
 },
 "nbformat": 4,
 "nbformat_minor": 2
}
