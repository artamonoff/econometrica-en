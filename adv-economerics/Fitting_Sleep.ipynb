{
 "cells": [
  {
   "cell_type": "code",
   "execution_count": null,
   "id": "fefef034",
   "metadata": {},
   "outputs": [],
   "source": [
    "import pandas as pd\n",
    "import numpy as np\n",
    "import statsmodels.api as sm\n",
    "import statsmodels.formula.api as smf"
   ]
  },
  {
   "cell_type": "code",
   "execution_count": null,
   "id": "ef73cf8c",
   "metadata": {},
   "outputs": [],
   "source": [
    "# import sleep75 dataset\n",
    "df_sleep = pd.read_csv('sleep75.csv')\n",
    "df_sleep.shape # dataset size"
   ]
  },
  {
   "cell_type": "markdown",
   "id": "094fad32",
   "metadata": {},
   "source": [
    "## Regression model\n",
    "Consider a regression **sleep on totwrk & age**\n",
    "Its specification is \n",
    "$$sleep=\\beta_0+\\beta_1totwrk+\\beta_2age+u $$\n",
    "Here\n",
    "* sleep is an endogenous/dependent variable\n",
    "* totwrk & age are exogenous/explanatory varables, predictors\n",
    "\n",
    "## Matrices of regression design:\n",
    "* y=sleep\n",
    "* X=[1, totwrk, age]"
   ]
  },
  {
   "cell_type": "code",
   "execution_count": null,
   "id": "526ffcee",
   "metadata": {},
   "outputs": [],
   "source": [
    "y = df_sleep['sleep']\n",
    "y.head()"
   ]
  },
  {
   "cell_type": "code",
   "execution_count": null,
   "id": "ac481e8c",
   "metadata": {},
   "outputs": [],
   "source": [
    "X = sm.add_constant(df_sleep[['totwrk', 'age']])\n",
    "X.head()"
   ]
  },
  {
   "cell_type": "markdown",
   "id": "51eac5f1",
   "metadata": {},
   "source": [
    "## Regression fitting via specification"
   ]
  },
  {
   "cell_type": "code",
   "execution_count": null,
   "id": "6d6182b7",
   "metadata": {},
   "outputs": [],
   "source": [
    "fitted_regr = smf.ols(formula='sleep~totwrk+age', data=df_sleep).fit()\n",
    "# estimated coefficients: .params property\n",
    "fitted_regr.params"
   ]
  },
  {
   "cell_type": "markdown",
   "id": "e4bf8d02",
   "metadata": {},
   "source": [
    "## Regression fitting via matrices of regression design\n",
    "*Remark*: missing='drop' means that we exclude observations with missing values"
   ]
  },
  {
   "cell_type": "code",
   "execution_count": null,
   "id": "a224cf56",
   "metadata": {},
   "outputs": [],
   "source": [
    "fitted_regr = sm.OLS(endog=y, exog=X, missing='drop').fit()\n",
    "fitted_regr.params"
   ]
  },
  {
   "cell_type": "markdown",
   "id": "a63e2e2c",
   "metadata": {},
   "source": [
    "## Regression fitting via solving a system of linear equations\n",
    "Esimated coefficints is the solution of a system of linear equations in matrix form $(X^\\top X)\\beta=X^\\top y$\n",
    "\n",
    "Its solution $\\hat{\\beta}_{OLS}=(X^\\top X)^{-1}(X^\\top y)$ "
   ]
  },
  {
   "cell_type": "code",
   "execution_count": null,
   "id": "ce272423",
   "metadata": {},
   "outputs": [],
   "source": [
    "# X'X matrix\n",
    "X.T@X"
   ]
  },
  {
   "cell_type": "code",
   "execution_count": null,
   "id": "b6ca4f0f",
   "metadata": {},
   "outputs": [],
   "source": [
    "# X'y matrix\n",
    "X.T@y"
   ]
  },
  {
   "cell_type": "code",
   "execution_count": null,
   "id": "119cf7da",
   "metadata": {},
   "outputs": [],
   "source": [
    "np.linalg.inv(X.T@X)@(X.T@y)"
   ]
  },
  {
   "attachments": {},
   "cell_type": "markdown",
   "id": "c174a340",
   "metadata": {},
   "source": [
    "## Goodness-of-Fit\n",
    "TSS (Toral Sum of Squres)"
   ]
  },
  {
   "cell_type": "code",
   "execution_count": null,
   "id": "d9744f0b",
   "metadata": {},
   "outputs": [],
   "source": [
    "fitted_regr.centered_tss"
   ]
  },
  {
   "attachments": {},
   "cell_type": "markdown",
   "id": "546d7bd0",
   "metadata": {},
   "source": [
    "ESS (Explained Sum of Squares)"
   ]
  },
  {
   "cell_type": "code",
   "execution_count": null,
   "id": "8b6c8336",
   "metadata": {},
   "outputs": [],
   "source": [
    "fitted_regr.ess"
   ]
  },
  {
   "attachments": {},
   "cell_type": "markdown",
   "id": "c20afcfb",
   "metadata": {},
   "source": [
    "RSS (Residual Sum of Squares)"
   ]
  },
  {
   "cell_type": "code",
   "execution_count": null,
   "id": "11530254",
   "metadata": {},
   "outputs": [],
   "source": [
    "fitted_regr.ssr"
   ]
  },
  {
   "attachments": {},
   "cell_type": "markdown",
   "id": "7a3a03a1",
   "metadata": {},
   "source": [
    "$R^2$, $R^2_{adj}$"
   ]
  },
  {
   "cell_type": "code",
   "execution_count": null,
   "id": "60fa8703",
   "metadata": {},
   "outputs": [],
   "source": [
    "fitted_regr.rsquared, fitted_regr.rsquared_adj"
   ]
  },
  {
   "attachments": {},
   "cell_type": "markdown",
   "id": "a13d1ac9",
   "metadata": {},
   "source": [
    "## Fitted values, Residuals, Dependent variable (Actual observations)\n",
    "Consider indices [0, 3, 78, 197, 401, 561]\n",
    "Fitted values"
   ]
  },
  {
   "cell_type": "code",
   "execution_count": null,
   "id": "71a55349",
   "metadata": {},
   "outputs": [],
   "source": [
    "ind = [0, 3, 78, 197, 401, 561]\n",
    "fitted_regr.fittedvalues[ind]"
   ]
  },
  {
   "attachments": {},
   "cell_type": "markdown",
   "id": "a3114607",
   "metadata": {},
   "source": [
    "Residuals"
   ]
  },
  {
   "cell_type": "code",
   "execution_count": null,
   "id": "c88a916d",
   "metadata": {},
   "outputs": [],
   "source": [
    "fitted_regr.resid[ind]"
   ]
  },
  {
   "attachments": {},
   "cell_type": "markdown",
   "id": "19666ed5",
   "metadata": {},
   "source": [
    "Observations of the dependent variable"
   ]
  },
  {
   "cell_type": "code",
   "execution_count": null,
   "id": "f6ce8d5a",
   "metadata": {},
   "outputs": [],
   "source": [
    "df_sleep['sleep'].iloc[ind]"
   ]
  }
 ],
 "metadata": {
  "kernelspec": {
   "display_name": "Python 3 (ipykernel)",
   "language": "python",
   "name": "python3"
  },
  "language_info": {
   "codemirror_mode": {
    "name": "ipython",
    "version": 3
   },
   "file_extension": ".py",
   "mimetype": "text/x-python",
   "name": "python",
   "nbconvert_exporter": "python",
   "pygments_lexer": "ipython3",
   "version": "3.11.2"
  }
 },
 "nbformat": 4,
 "nbformat_minor": 5
}
