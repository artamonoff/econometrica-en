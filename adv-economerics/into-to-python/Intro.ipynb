{
 "cells": [
  {
   "cell_type": "markdown",
   "id": "fdc2f8d4",
   "metadata": {},
   "source": [
    "# Jupyter Notebooks\n",
    "\n",
    "## Web-resources\n",
    "\n",
    "Official web-sites:\n",
    "* [Python](https://www.python.org/)\n",
    "* [Jupyter](http://jupyter.org/) \n",
    "* [Visual Studio Code](https://code.visualstudio.com/)\n",
    "* [Anaconda](https://www.anaconda.com/)\n",
    "\n",
    "Online Jupyter Notebooks\n",
    "* [Anaconda Cloud](https://anaconda.cloud)\n",
    "* [Google Colab](https://colab.research.google.com/)\n",
    "* [Jupyter Demo](https://jupyter.org/try-jupyter/retro/notebooks/?path=notebooks/Intro.ipynb)\n",
    "\n",
    "Basic libraries\n",
    "* [NumPy](https://numpy.org): arrays, matrices etc\n",
    "* [Pandas](https://pandas.pydata.org): DataFrames, Time series, Panels, Date Input/Output, Data Manipulations etc\n",
    "* [Statmodels](https://www.statsmodels.org): Regressions, tests etc\n",
    "* [SciPy](https://scipy.org): Mathematics, Statistics (in particular, critical values)\n",
    "* [Seaborn](https://seaborn.pydata.org): Statistical data visualization\n",
    "* [Matplotlib](https://matplotlib.org): Visualization with Python"
   ]
  },
  {
   "cell_type": "markdown",
   "id": "b19bddeb",
   "metadata": {},
   "source": [
    "## Cells\n",
    "\n",
    "The Jupyter Notebook is the original web application for creating and sharing computational documents.\n",
    "\n",
    "Jupyter notebook works as a local web-service or in IDE software (VS Code, Spyder etc)\n",
    "\n",
    "Jupyter notebook is a document consisting of cells\n",
    "- Narrative text formatted with [Markdown](https://www.markdownguide.org) (Markup language)\n",
    "- Python executable code"
   ]
  },
  {
   "cell_type": "markdown",
   "id": "557c08b0",
   "metadata": {},
   "source": [
    "## Markdown cells\n",
    "\n",
    "To render a markdown cell in browser we need \"Ctrl/Cmd/^+Enter\" or click on `Run` bottom\n",
    "\n",
    "Markdown cells may contain markup tags and LaTeX formulas in \\$'s. Example: $\\int_0^1 x^3 dx$"
   ]
  },
  {
   "cell_type": "markdown",
   "id": "b77d17a2",
   "metadata": {},
   "source": [
    "## Code Cells\n",
    "\n",
    "These cells contain lines with codes and comments \n",
    "\n",
    "Comments start with # character\n",
    "\n",
    "To run code lines in a cell we need \"Ctrl/Cmd+Enter\" or click on `Run` bottom\n",
    "\n",
    "Output result arrear below the cell"
   ]
  }
 ],
 "metadata": {
  "kernelspec": {
   "display_name": "Python 3 (ipykernel)",
   "language": "python",
   "name": "python3"
  },
  "language_info": {
   "codemirror_mode": {
    "name": "ipython",
    "version": 3
   },
   "file_extension": ".py",
   "mimetype": "text/x-python",
   "name": "python",
   "nbconvert_exporter": "python",
   "pygments_lexer": "ipython3",
   "version": "3.9.16"
  }
 },
 "nbformat": 4,
 "nbformat_minor": 5
}
