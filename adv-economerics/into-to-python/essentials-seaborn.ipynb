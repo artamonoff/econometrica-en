{
 "cells": [
  {
   "cell_type": "markdown",
   "id": "a1bb0ae4",
   "metadata": {},
   "source": [
    "# Essentials of Python. Data Visualization with Seaborn\n",
    "\n",
    "We call *import* to attache a library to a notebook"
   ]
  },
  {
   "cell_type": "code",
   "execution_count": null,
   "id": "c023aa9f",
   "metadata": {},
   "outputs": [],
   "source": [
    "import pandas as pd\n",
    "import seaborn as sns\n",
    "import numpy as np"
   ]
  },
  {
   "cell_type": "code",
   "execution_count": null,
   "id": "2c33f429",
   "metadata": {},
   "outputs": [],
   "source": [
    "df_sleep = pd.read_csv('sleep75.csv')\n",
    "df_diamonds = pd.read_csv('diamonds.csv')"
   ]
  },
  {
   "cell_type": "markdown",
   "id": "01f5ff28",
   "metadata": {},
   "source": [
    "## Histograms"
   ]
  },
  {
   "cell_type": "code",
   "execution_count": null,
   "id": "e114d275",
   "metadata": {},
   "outputs": [],
   "source": [
    "# Basic histogram for continuous variable\n",
    "sns.histplot(data=df_sleep, x='sleep')"
   ]
  },
  {
   "cell_type": "code",
   "execution_count": null,
   "id": "9c655e0e",
   "metadata": {},
   "outputs": [],
   "source": [
    "# Stacked histogram\n",
    "sns.histplot(data=df_sleep, y='sleep', hue='male', multiple='stack')"
   ]
  },
  {
   "cell_type": "code",
   "execution_count": null,
   "id": "5b475f51",
   "metadata": {},
   "outputs": [],
   "source": [
    "# Histogram for price variables\n",
    "sns.histplot(data=df_diamonds, x='price')"
   ]
  },
  {
   "cell_type": "code",
   "execution_count": null,
   "id": "85ebf39e",
   "metadata": {},
   "outputs": [],
   "source": [
    "# Histogram for price variables on log-scale\n",
    "sns.histplot(data=df_diamonds, x='price', log_scale=True)"
   ]
  },
  {
   "cell_type": "code",
   "execution_count": null,
   "id": "c2e4cf2e",
   "metadata": {},
   "outputs": [],
   "source": [
    "# Alternatively \n",
    "sns.histplot(x=np.log(df_diamonds['price']))"
   ]
  },
  {
   "attachments": {},
   "cell_type": "markdown",
   "id": "bdf36160",
   "metadata": {},
   "source": [
    "## Bar plots for categorical variables"
   ]
  },
  {
   "cell_type": "code",
   "execution_count": null,
   "id": "bd095842",
   "metadata": {},
   "outputs": [],
   "source": [
    "sns.histplot(data=df_diamonds, x='cut')"
   ]
  },
  {
   "cell_type": "code",
   "execution_count": null,
   "id": "326e0659",
   "metadata": {},
   "outputs": [],
   "source": [
    "sns.histplot(data=df_diamonds, x='color', hue='cut')"
   ]
  },
  {
   "attachments": {},
   "cell_type": "markdown",
   "id": "efa0095a",
   "metadata": {},
   "source": [
    "## Scatter plots\n",
    "Method [`scatterpolt`](https://seaborn.pydata.org/generated/seaborn.scatterplot.html) in seaborn"
   ]
  },
  {
   "cell_type": "code",
   "execution_count": null,
   "id": "ca236839",
   "metadata": {},
   "outputs": [],
   "source": [
    "sns.scatterplot(data=df_sleep, x='totwrk', y='sleep')"
   ]
  },
  {
   "cell_type": "code",
   "execution_count": null,
   "id": "aead7b75",
   "metadata": {},
   "outputs": [],
   "source": [
    "# Scatter plot with grouping by a qualitative variable\n",
    "sns.scatterplot(data=df_sleep, x='totwrk', y='sleep', hue='male')"
   ]
  },
  {
   "attachments": {},
   "cell_type": "markdown",
   "id": "25250bb2",
   "metadata": {},
   "source": [
    "Scatter plot with fitted line\n",
    "\n",
    "Method [`regplot`](https://seaborn.pydata.org/generated/seaborn.regplot.html)"
   ]
  },
  {
   "cell_type": "code",
   "execution_count": null,
   "id": "de731353",
   "metadata": {},
   "outputs": [],
   "source": [
    "# Scatter plot with fitted line (default settings)\n",
    "sns.regplot(data=df_sleep, x='totwrk', y='sleep')"
   ]
  },
  {
   "attachments": {},
   "cell_type": "markdown",
   "id": "6aab7b55",
   "metadata": {},
   "source": [
    "With fine settings. Line style is [here](https://matplotlib.org/stable/api/_as_gen/matplotlib.pyplot.plot.html)"
   ]
  },
  {
   "cell_type": "code",
   "execution_count": null,
   "id": "005e77af",
   "metadata": {},
   "outputs": [],
   "source": [
    "# Scatter plot with fitted line\n",
    "sns.regplot(data=df_sleep, x='totwrk', y='sleep', ci=None, line_kws={'color': 'red', 'linestyle':'--'}, scatter_kws={'color': 'green'})"
   ]
  },
  {
   "cell_type": "code",
   "execution_count": null,
   "id": "851d699f",
   "metadata": {},
   "outputs": [],
   "source": [
    "# Scatter plot with fitted parabolic function\n",
    "sns.regplot(data=df_sleep, x='totwrk', y='sleep', ci=None, line_kws={'color': 'red', 'linestyle':'-'}, scatter_kws={'color': 'black'}, order=2)"
   ]
  }
 ],
 "metadata": {
  "kernelspec": {
   "display_name": "Python 3 (ipykernel)",
   "language": "python",
   "name": "python3"
  },
  "language_info": {
   "codemirror_mode": {
    "name": "ipython",
    "version": 3
   },
   "file_extension": ".py",
   "mimetype": "text/x-python",
   "name": "python",
   "nbconvert_exporter": "python",
   "pygments_lexer": "ipython3",
   "version": "3.11.2"
  }
 },
 "nbformat": 4,
 "nbformat_minor": 5
}
