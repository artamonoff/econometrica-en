{
 "cells": [
  {
   "cell_type": "markdown",
   "id": "14431ffc",
   "metadata": {},
   "source": [
    "# Essentials om Numpy (multidimensional arrays)"
   ]
  },
  {
   "cell_type": "code",
   "execution_count": null,
   "id": "0f7562a0",
   "metadata": {},
   "outputs": [],
   "source": [
    "import numpy as np"
   ]
  },
  {
   "cell_type": "markdown",
   "id": "65a8d739",
   "metadata": {},
   "source": [
    "Consider matrices $A=\\begin{pmatrix} 1 & -2 \\\\ -1 & 3\\end{pmatrix}$ & $B=\\begin{pmatrix} -1 & 0 \\\\ 1 & 2 \\end{pmatrix}$"
   ]
  },
  {
   "cell_type": "code",
   "execution_count": null,
   "id": "6f3a171b",
   "metadata": {},
   "outputs": [],
   "source": [
    "A = np.array([[1, -2], [-1, 3]])\n",
    "B = np.array([[-1, 0], [1, 2]])\n",
    "A, B"
   ]
  },
  {
   "cell_type": "code",
   "execution_count": null,
   "id": "139c24a8",
   "metadata": {},
   "outputs": [],
   "source": [
    "# Matrix size\n",
    "A.shape, B.shape"
   ]
  },
  {
   "cell_type": "markdown",
   "id": "2baa58e9",
   "metadata": {},
   "source": [
    "## Matrix operation\n",
    "scalar multiplication, addition, subtraction"
   ]
  },
  {
   "cell_type": "code",
   "execution_count": null,
   "id": "c877e499",
   "metadata": {
    "scrolled": true
   },
   "outputs": [],
   "source": [
    "2*A, A+B, 2*A-3*B"
   ]
  },
  {
   "cell_type": "markdown",
   "id": "d6fdb597",
   "metadata": {},
   "source": [
    "Transpose matrix: .T, .transpose()"
   ]
  },
  {
   "cell_type": "code",
   "execution_count": null,
   "id": "772b74ac",
   "metadata": {
    "scrolled": true
   },
   "outputs": [],
   "source": [
    "A.T, np.transpose(B)"
   ]
  },
  {
   "cell_type": "markdown",
   "id": "06cffba6",
   "metadata": {},
   "source": [
    "Matrix multiplication"
   ]
  },
  {
   "cell_type": "code",
   "execution_count": null,
   "id": "e3ce968c",
   "metadata": {},
   "outputs": [],
   "source": [
    "A@B"
   ]
  },
  {
   "cell_type": "code",
   "execution_count": null,
   "id": "50c5304c",
   "metadata": {},
   "outputs": [],
   "source": [
    "np.matmul(A, B)"
   ]
  },
  {
   "cell_type": "markdown",
   "id": "0a5961f3",
   "metadata": {},
   "source": [
    "Determinat $\\det(A)$"
   ]
  },
  {
   "cell_type": "code",
   "execution_count": null,
   "id": "670d36f5",
   "metadata": {},
   "outputs": [],
   "source": [
    "np.linalg.det(A), np.linalg.det(B)"
   ]
  },
  {
   "cell_type": "markdown",
   "id": "cf9705ac",
   "metadata": {},
   "source": [
    "Inverse matrix"
   ]
  },
  {
   "cell_type": "code",
   "execution_count": null,
   "id": "b6448360",
   "metadata": {},
   "outputs": [],
   "source": [
    "np.linalg.inv(A), np.linalg.inv(B)"
   ]
  },
  {
   "cell_type": "markdown",
   "id": "3769b90f",
   "metadata": {},
   "source": [
    "Matrix powers $A^2, A^3, A^4$"
   ]
  },
  {
   "cell_type": "code",
   "execution_count": null,
   "id": "d8685373",
   "metadata": {},
   "outputs": [],
   "source": [
    "np.linalg.matrix_power(A, n=2), np.linalg.matrix_power(A, n=3), np.linalg.matrix_power(A, n=4)"
   ]
  },
  {
   "cell_type": "markdown",
   "id": "9948858d",
   "metadata": {},
   "source": [
    "## Non-matrix multiplication"
   ]
  },
  {
   "cell_type": "code",
   "execution_count": null,
   "id": "b3fc5b17",
   "metadata": {},
   "outputs": [],
   "source": [
    "# we multiply matrices as usual\n",
    "A*B, A@B"
   ]
  },
  {
   "cell_type": "code",
   "execution_count": null,
   "id": "26feec8e",
   "metadata": {},
   "outputs": [],
   "source": [
    "\n",
    "# We multiply arrays by entries\n",
    "A = np.array([[1, -2], [-1, 3]])\n",
    "B = np.array([[-1, 0], [1, 2]])\n",
    "A*B, A@B"
   ]
  },
  {
   "cell_type": "markdown",
   "id": "86bac9b8",
   "metadata": {},
   "source": [
    "## Array transformation\n",
    "Consider a 1-D array"
   ]
  },
  {
   "cell_type": "code",
   "execution_count": null,
   "id": "d7865f32",
   "metadata": {
    "scrolled": true
   },
   "outputs": [],
   "source": [
    "x =np.array([1, 2, 3, 3, 0.5])\n",
    "x"
   ]
  },
  {
   "cell_type": "code",
   "execution_count": null,
   "id": "be585a00",
   "metadata": {},
   "outputs": [],
   "source": [
    "# scalar multiplication\n",
    "5*x"
   ]
  },
  {
   "cell_type": "code",
   "execution_count": null,
   "id": "53210ea7",
   "metadata": {},
   "outputs": [],
   "source": [
    "# scalar addition/subtraction\n",
    "x+1, x-2"
   ]
  },
  {
   "cell_type": "code",
   "execution_count": null,
   "id": "7c2abdaa",
   "metadata": {},
   "outputs": [],
   "source": [
    "# squared array\n",
    "x**2"
   ]
  },
  {
   "cell_type": "code",
   "execution_count": null,
   "id": "350d4f19",
   "metadata": {},
   "outputs": [],
   "source": [
    "# log-transformation\n",
    "np.log(x)"
   ]
  }
 ],
 "metadata": {
  "kernelspec": {
   "display_name": "Python 3 (ipykernel)",
   "language": "python",
   "name": "python3"
  },
  "language_info": {
   "codemirror_mode": {
    "name": "ipython",
    "version": 3
   },
   "file_extension": ".py",
   "mimetype": "text/x-python",
   "name": "python",
   "nbconvert_exporter": "python",
   "pygments_lexer": "ipython3",
   "version": "3.9.16"
  }
 },
 "nbformat": 4,
 "nbformat_minor": 5
}
