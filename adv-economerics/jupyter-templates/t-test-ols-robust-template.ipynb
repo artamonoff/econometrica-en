{
 "cells": [
  {
   "cell_type": "markdown",
   "metadata": {},
   "source": [
    "# Non-robust & robust t-test: significance of coefficients"
   ]
  },
  {
   "cell_type": "code",
   "execution_count": null,
   "metadata": {},
   "outputs": [],
   "source": [
    "import pandas as pd\n",
    "import numpy as np\n",
    "\n",
    "from statsmodels.formula.api import ols\n",
    "from statsmodels.iolib.summary2 import summary_params, summary_col # output & reports\n",
    "\n",
    "from scipy.stats import t # t-distribution & critical values\n",
    "\n",
    "# Do not show warnings\n",
    "import warnings\n",
    "warnings.simplefilter(action='ignore', category=Warning)"
   ]
  },
  {
   "cell_type": "code",
   "execution_count": null,
   "metadata": {},
   "outputs": [],
   "source": [
    "# data importing\n",
    "df = pd.read_csv('Filename.csv')\n",
    "df.head()"
   ]
  },
  {
   "cell_type": "markdown",
   "metadata": {},
   "source": [
    "Consider a regression\n",
    "\n",
    "$$\n",
    "\t\\text{Type the specification}\n",
    "$$"
   ]
  },
  {
   "cell_type": "markdown",
   "metadata": {},
   "source": [
    "## Specification & Fitting"
   ]
  },
  {
   "cell_type": "code",
   "execution_count": null,
   "metadata": {},
   "outputs": [],
   "source": [
    "# model specification\n",
    "mod = ols(formula=' ', data=df)\n",
    "# fitting with default (non-robust) covariance matrix estimator\n",
    "res_ols = mod.fit()\n",
    "# fitting with robust (HC3) covariance matrix estimator\n",
    "res_hc = mod.fit(cov_type='HC3')"
   ]
  },
  {
   "cell_type": "markdown",
   "metadata": {},
   "source": [
    "## Hypothesis\n",
    "We test $H_0:\\beta_{j}=0, \\quad (j=1, \\dots, k)$\n",
    "\n",
    "Significance level is $\\alpha=*\\%=$"
   ]
  },
  {
   "cell_type": "markdown",
   "metadata": {},
   "source": [
    "Critical value of t-distribution"
   ]
  },
  {
   "cell_type": "code",
   "execution_count": null,
   "metadata": {},
   "outputs": [],
   "source": [
    "# significance level\n",
    "sign_level = \n",
    "# critical value of  t-distribution\n",
    "t.isf(q=sign_level/2, df=mod.df_resid)"
   ]
  },
  {
   "cell_type": "markdown",
   "metadata": {},
   "source": [
    "## Output of non-robust t-test (significance of coefficients)"
   ]
  },
  {
   "cell_type": "code",
   "execution_count": null,
   "metadata": {},
   "outputs": [],
   "source": [
    "summary_params(res_ols, alpha=).round(3)"
   ]
  },
  {
   "cell_type": "markdown",
   "metadata": {},
   "source": [
    "**Conclusions**: "
   ]
  },
  {
   "cell_type": "markdown",
   "metadata": {},
   "source": [
    "## Output of non-robust t-test (significance of coefficients) with HC3 covariance matrix estimator"
   ]
  },
  {
   "cell_type": "code",
   "execution_count": null,
   "metadata": {},
   "outputs": [],
   "source": [
    "summary_params(res_hc, alpha=).round(3)"
   ]
  },
  {
   "cell_type": "markdown",
   "metadata": {},
   "source": [
    "**Conclusions**: "
   ]
  },
  {
   "cell_type": "markdown",
   "metadata": {},
   "source": [
    "## Fitting result of both approaches in one table \n",
    "__Pay attention to significance codes (number of stars)__"
   ]
  },
  {
   "cell_type": "code",
   "execution_count": null,
   "metadata": {},
   "outputs": [],
   "source": [
    "summary_col([res_ols, res_hc], model_names=['OLS-CME', 'HC3-CME'], stars=True)"
   ]
  }
 ],
 "metadata": {
  "kernelspec": {
   "display_name": "base",
   "language": "python",
   "name": "python3"
  },
  "language_info": {
   "codemirror_mode": {
    "name": "ipython",
    "version": 3
   },
   "file_extension": ".py",
   "mimetype": "text/x-python",
   "name": "python",
   "nbconvert_exporter": "python",
   "pygments_lexer": "ipython3",
   "version": "3.11.7"
  }
 },
 "nbformat": 4,
 "nbformat_minor": 2
}
