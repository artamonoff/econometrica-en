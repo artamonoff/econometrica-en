{
 "cells": [
  {
   "cell_type": "markdown",
   "metadata": {},
   "source": [
    "# logit/probit-regression: Goodness-of-fit"
   ]
  },
  {
   "cell_type": "code",
   "execution_count": null,
   "metadata": {},
   "outputs": [],
   "source": [
    "import numpy as np\n",
    "import pandas as pd\n",
    "\n",
    "from statsmodels.formula.api import logit, probit\n",
    "\n",
    "# Do not show Warnings\n",
    "import warnings\n",
    "warnings.simplefilter(action='ignore', category=Warning)\n",
    "# Do not show ValueWarning, ConvergenceWarning из statsmodels\n",
    "from statsmodels.tools.sm_exceptions import ValueWarning, ConvergenceWarning\n",
    "warnings.simplefilter('ignore', category=ValueWarning)\n",
    "warnings.simplefilter('ignore', category=ConvergenceWarning)"
   ]
  },
  {
   "cell_type": "code",
   "execution_count": null,
   "metadata": {},
   "outputs": [],
   "source": [
    "# data importing\n",
    "df = pd.read_csv('Filename.csv')"
   ]
  },
  {
   "cell_type": "markdown",
   "metadata": {},
   "source": [
    "## Specification and fitting"
   ]
  },
  {
   "cell_type": "code",
   "execution_count": null,
   "metadata": {},
   "outputs": [],
   "source": [
    "mod = logit(formula = 'your specification', data = df)\n",
    "# mod = probit(formula = 'your specification', data = df)\n",
    "res = mod.fit(disp=False)"
   ]
  },
  {
   "cell_type": "markdown",
   "metadata": {},
   "source": [
    "## Goodness-of-fit. Basic approaches\n",
    "McDadden's $R^2$\n",
    "$$ \n",
    "\tR^2_{pseudo}=1-\\frac{\\log L_{full}}{\\log L_{null}}\n",
    "$$"
   ]
  },
  {
   "cell_type": "code",
   "execution_count": null,
   "metadata": {},
   "outputs": [],
   "source": [
    "res.prsquared"
   ]
  },
  {
   "cell_type": "markdown",
   "metadata": {},
   "source": [
    "McFadden’s Adjusted $R^2$\n",
    "$$ \n",
    "\tR^2_{adj}=1-\\frac{\\log L_{full}-k}{\\log L_{null}}\n",
    "$$"
   ]
  },
  {
   "cell_type": "code",
   "execution_count": null,
   "metadata": {},
   "outputs": [],
   "source": [
    "1-(res.llf-res.df_model)/res.llnull"
   ]
  },
  {
   "cell_type": "markdown",
   "metadata": {},
   "source": [
    "Cox & Snell $R^2$\n",
    "$$\n",
    "\tR^2_{C\\& S}=1-\\left(\\frac{L_{null}}{L_{full}}\\right)^{2/n}=1-\\left(\\frac{\\exp(\\log L_{null})}{\\exp(\\log L_{full})}\\right)^{2/n}=\n",
    "\t1-\\exp\\left(\\frac{2}{n}(\\log L_{null}-\\log L_{full})\\right)=1-\\exp\\left(-\\frac{LR_{overall}}{n}\\right)\n",
    "$$"
   ]
  },
  {
   "cell_type": "code",
   "execution_count": null,
   "metadata": {},
   "outputs": [],
   "source": [
    "1-np.exp(-res.llr/res.nobs)"
   ]
  },
  {
   "cell_type": "markdown",
   "metadata": {},
   "source": [
    "Nagelkerke / Cragg & Uhler $R^2$\n",
    "$$\n",
    "\tR^2_{N,C\\& U}=\\frac{1-\\left(\\frac{L_{null}}{L_{full}}\\right)^{2/n}}{1-L_{null}^{2/n}}=\n",
    "\t\\frac{1-\\exp\\left(-\\frac{LR}{n}\\right)}{1-\\exp(2\\log L_{null}/n)}\n",
    "$$"
   ]
  },
  {
   "cell_type": "code",
   "execution_count": null,
   "metadata": {},
   "outputs": [],
   "source": [
    "(1-np.exp(-res.llr/res.nobs))/(1-np.exp(2*res.llnull/res.nobs))"
   ]
  },
  {
   "cell_type": "markdown",
   "metadata": {},
   "source": [
    "Efron's $R^2$\n",
    "$$\n",
    "\tR^2_{Efron}=1-\\frac{\\sum(y_i-\\hat{P}_i)^2}{\\sum(y_i-\\bar{y})^2}=1-\\frac{\\sum(y_i-\\hat{P}_i)^2}{n Var(y)}\n",
    "$$"
   ]
  },
  {
   "cell_type": "code",
   "execution_count": null,
   "metadata": {},
   "outputs": [],
   "source": [
    "1-(np.sum(res.resid_response**2))/(res.nobs*np.var(mod.endog))"
   ]
  },
  {
   "cell_type": "markdown",
   "metadata": {},
   "source": [
    "McKelvey & Zavoina's $R^2$\n",
    "\n",
    "\\begin{align*}\n",
    "\tR^2_{logit}&=\\frac{Var(\\hat{y})}{Var(\\hat{y})+\\pi^2/3} & R^2_{probit}&=\\frac{Var(\\hat{y})}{Var(\\hat{y})+1}\n",
    "\\end{align*}\n",
    "\n",
    "where  $\\hat{y}=x'\\hat{\\beta}$"
   ]
  },
  {
   "cell_type": "code",
   "execution_count": null,
   "metadata": {},
   "outputs": [],
   "source": [
    "# logit\n",
    "np.var(res.fittedvalues)/(np.var(res.fittedvalues)+np.pi**2/3)\n",
    "\n",
    "# probit\n",
    "# np.var(res.fittedvalues)/(np.var(res.fittedvalues)+1)"
   ]
  }
 ],
 "metadata": {
  "language_info": {
   "name": "python"
  }
 },
 "nbformat": 4,
 "nbformat_minor": 2
}
