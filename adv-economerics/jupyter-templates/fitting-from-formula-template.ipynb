{
 "cells": [
  {
   "cell_type": "markdown",
   "id": "db56e72a-1684-48cf-997d-b46ada807b0e",
   "metadata": {},
   "source": [
    "# Linear regression: fitting (via formula)"
   ]
  },
  {
   "cell_type": "code",
   "execution_count": null,
   "id": "d1727dee-4bdb-4fb9-a41e-410104ddd7a9",
   "metadata": {},
   "outputs": [],
   "source": [
    "import numpy as np\n",
    "import pandas as pd\n",
    "\n",
    "from statsmodels.formula.api import ols\n",
    "\n",
    "# Do not show Warnings\n",
    "import warnings\n",
    "warnings.simplefilter(action='ignore', category=Warning)"
   ]
  },
  {
   "cell_type": "code",
   "execution_count": null,
   "id": "d3ed4d98-914b-41f3-8e6b-5b8828bf422d",
   "metadata": {},
   "outputs": [],
   "source": [
    "# data importing\n",
    "df = pd.read_csv('Filename.csv')"
   ]
  },
  {
   "cell_type": "markdown",
   "id": "05110555-d2a6-4c81-8686-e23e188d7e29",
   "metadata": {},
   "source": [
    "## Specification and fitting"
   ]
  },
  {
   "cell_type": "code",
   "execution_count": null,
   "id": "2abdc613-94fb-40e3-8008-da0a4a725124",
   "metadata": {},
   "outputs": [],
   "source": [
    "mod = ols(formula = , data = df)\n",
    "res = mod.fit()"
   ]
  },
  {
   "cell_type": "markdown",
   "id": "2a6ce981-b8d3-41b1-b4e8-3730284b932d",
   "metadata": {},
   "source": [
    "coefficients of the fitted model"
   ]
  },
  {
   "cell_type": "code",
   "execution_count": null,
   "id": "a8797252-746b-4e63-8c97-138a2dff898d",
   "metadata": {},
   "outputs": [],
   "source": [
    "res.params"
   ]
  },
  {
   "cell_type": "markdown",
   "id": "9d67afdc-fe72-4973-9ddc-4e5db0985151",
   "metadata": {},
   "source": [
    "coefficients of the fitted model with rounding"
   ]
  },
  {
   "cell_type": "code",
   "execution_count": null,
   "id": "e2030af5-d5c0-4284-8a92-04e11345f5c3",
   "metadata": {},
   "outputs": [],
   "source": [
    "res.params.round(3)"
   ]
  },
  {
   "cell_type": "markdown",
   "id": "2bf13887-77c0-4ba2-b468-42175e1e2a97",
   "metadata": {},
   "source": [
    "## Coefficients'  interpretation\n",
    "Write here"
   ]
  }
 ],
 "metadata": {
  "kernelspec": {
   "display_name": "Python 3 (ipykernel)",
   "language": "python",
   "name": "python3"
  },
  "language_info": {
   "codemirror_mode": {
    "name": "ipython",
    "version": 3
   },
   "file_extension": ".py",
   "mimetype": "text/x-python",
   "name": "python",
   "nbconvert_exporter": "python",
   "pygments_lexer": "ipython3",
   "version": "3.11.6"
  }
 },
 "nbformat": 4,
 "nbformat_minor": 5
}
