{
 "cells": [
  {
   "cell_type": "markdown",
   "metadata": {},
   "source": [
    "# Model Diagnostics: Tests for Serial Correlation"
   ]
  },
  {
   "cell_type": "code",
   "execution_count": null,
   "metadata": {},
   "outputs": [],
   "source": [
    "import pandas as pd\n",
    "import numpy as np\n",
    "\n",
    "from statsmodels.formula.api import ols\n",
    "from statsmodels.stats.api import durbin_watson, acorr_breusch_godfrey, cov_hac # DW & LM-test\n",
    "from statsmodels.iolib.summary2 import summary_col # outputs & reports\n",
    "\n",
    "from scipy.stats import chi2, t # chi2-distribution & critical values\n",
    "\n",
    "# do not show Warning\n",
    "import warnings\n",
    "warnings.simplefilter(action='ignore', category=Warning)"
   ]
  },
  {
   "cell_type": "code",
   "execution_count": null,
   "metadata": {},
   "outputs": [],
   "source": [
    "# data importing\n",
    "df = pd.read_csv('Filename.csv')"
   ]
  },
  {
   "cell_type": "markdown",
   "metadata": {},
   "source": [
    "Consider a regression\n",
    "\n",
    "$$\n",
    "\t\\text{Type the specification}\n",
    "$$"
   ]
  },
  {
   "cell_type": "markdown",
   "metadata": {},
   "source": [
    "## Specification & Fitting\n",
    "\n",
    "__Remark__: First, we prepare the dataset by performing necessary data transformations and adding new variables:"
   ]
  },
  {
   "cell_type": "code",
   "execution_count": null,
   "metadata": {},
   "outputs": [],
   "source": [
    "# add new variables to the dataset:\n",
    "df"
   ]
  },
  {
   "cell_type": "code",
   "execution_count": null,
   "metadata": {},
   "outputs": [],
   "source": [
    "# model specification via formula\n",
    "mod = ols(formula = 'your specification', data=df)\n",
    "# model fitting with default covariance matrix (non-robust)\n",
    "res = mod.fit()"
   ]
  },
  {
   "cell_type": "markdown",
   "metadata": {},
   "source": [
    "## DW Test\n",
    "\n",
    "Testing the model for first-order serial correlation"
   ]
  },
  {
   "cell_type": "code",
   "execution_count": null,
   "metadata": {},
   "outputs": [],
   "source": [
    "# DW statistic\n",
    "durbin_watson(res.resid)"
   ]
  },
  {
   "cell_type": "markdown",
   "metadata": {},
   "source": [
    "__Durbin-Watson Decision Rules__\n",
    "\n",
    "|$DW$ Value |$H_0$ Hypothesis|Conclusion |\n",
    "|:--:|:--:|:--:|\n",
    "|$0 \\leq DW< d_L$|rejected|positive autocorrelation present|\n",
    "|$d_L \\leq DW \\leq d_U$ |?|inconclusive |\n",
    "|$d_U < DW < 4-d_U$ |not rejected |no autocorrelation |\n",
    "|$4-d_U \\leq DW \\leq 4-d_L$|?|inconclusive |\n",
    "|$4-d_L < DW \\leq 4$ |rejected|negative autocorrelation present|"
   ]
  },
  {
   "cell_type": "markdown",
   "metadata": {},
   "source": [
    "__From tables__\n",
    "\n",
    "$d_L = $\n",
    "\n",
    "$d_U = $"
   ]
  },
  {
   "cell_type": "markdown",
   "metadata": {},
   "source": [
    "### Conclusion"
   ]
  },
  {
   "cell_type": "markdown",
   "metadata": {},
   "source": [
    "your conclusion"
   ]
  },
  {
   "cell_type": "markdown",
   "metadata": {},
   "source": [
    "## LM/BG Test\n",
    "\n",
    "Testing the model for *-th order serial correlation"
   ]
  },
  {
   "cell_type": "code",
   "execution_count": null,
   "metadata": {},
   "outputs": [],
   "source": [
    "# LM test for *-th order autocorrelation\n",
    "acorr_order = \n",
    "lm, lmpval, fval, fpval = acorr_breusch_godfrey(res, nlags=acorr_order)\n",
    "lm, lmpval"
   ]
  },
  {
   "cell_type": "markdown",
   "metadata": {},
   "source": [
    "## Critical Value of $\\chi^2$-Distribution"
   ]
  },
  {
   "cell_type": "code",
   "execution_count": null,
   "metadata": {},
   "outputs": [],
   "source": [
    "# Set significance level\n",
    "sign_level = \n",
    "# Critical value of chi2 distribution\n",
    "chi2.isf(q=sign_level, df=acorr_order)"
   ]
  },
  {
   "cell_type": "markdown",
   "metadata": {},
   "source": [
    "### Conclusion"
   ]
  },
  {
   "cell_type": "markdown",
   "metadata": {},
   "source": [
    "your conclusion"
   ]
  },
  {
   "cell_type": "markdown",
   "metadata": {},
   "source": [
    "## Specification and Fitting"
   ]
  },
  {
   "cell_type": "code",
   "execution_count": null,
   "metadata": {},
   "outputs": [],
   "source": [
    "# model specification via formula\n",
    "mod = ols(formula = 'your specification', data=df)\n",
    "# model fitting with default covariance matrix (non-robust)\n",
    "res_ols = mod.fit()\n",
    "# model fitting with robust HAC covariance matrix estimator\n",
    "res_hac = mod.fit(cov_type='HAC', cov_kwds={'maxlags': None, 'use_correction':True})"
   ]
  },
  {
   "cell_type": "markdown",
   "metadata": {},
   "source": [
    "## Critical Value of t-Distribution"
   ]
  },
  {
   "cell_type": "code",
   "execution_count": null,
   "metadata": {},
   "outputs": [],
   "source": [
    "# significance level\n",
    "sign_level = \n",
    "# critical value of t-distribution\n",
    "t.isf(q=sign_level/2, df=mod.df_resid)"
   ]
  },
  {
   "cell_type": "markdown",
   "metadata": {},
   "source": [
    "## Non-Robust t-Test for Coefficient Significance"
   ]
  },
  {
   "cell_type": "code",
   "execution_count": null,
   "metadata": {},
   "outputs": [],
   "source": [
    "summary_params(res_ols, alpha = ).round(3)"
   ]
  },
  {
   "cell_type": "markdown",
   "metadata": {},
   "source": [
    "### Conclusion\n",
    "\n",
    "your conclusion"
   ]
  },
  {
   "cell_type": "markdown",
   "metadata": {},
   "source": [
    "## Robust t-Test (HAC s.e.) for Coefficient Significance"
   ]
  },
  {
   "cell_type": "code",
   "execution_count": null,
   "metadata": {},
   "outputs": [],
   "source": [
    "summary_params(res_hac, alpha = ).round(3)"
   ]
  },
  {
   "cell_type": "markdown",
   "metadata": {},
   "source": [
    "### Conclusion\n",
    "\n",
    "your conclusion"
   ]
  },
  {
   "cell_type": "markdown",
   "metadata": {},
   "source": [
    "## Results of Both Estimations in One Table\n",
    "\n",
    "__Pay attention to significance codes (number of asterisks next to coefficients)__"
   ]
  },
  {
   "cell_type": "code",
   "execution_count": null,
   "metadata": {},
   "outputs": [],
   "source": [
    "summary_col([res_ols, res_hac], model_names=['OLS-CME', 'HAC-CME'], stars=True)"
   ]
  }
 ],
 "metadata": {
  "language_info": {
   "name": "python"
  }
 },
 "nbformat": 4,
 "nbformat_minor": 2
}