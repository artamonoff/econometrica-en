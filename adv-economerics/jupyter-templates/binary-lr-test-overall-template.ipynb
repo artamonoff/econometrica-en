{
 "cells": [
  {
   "cell_type": "markdown",
   "id": "c3889bc9-6713-471f-9b4b-e6fc9f4f289c",
   "metadata": {},
   "source": [
    "# logit/probit-regression: LR-test on overall significance"
   ]
  },
  {
   "cell_type": "code",
   "execution_count": null,
   "id": "39777eb2-f1a7-4606-8745-7aa09b7b593d",
   "metadata": {},
   "outputs": [],
   "source": [
    "import numpy as np\n",
    "import pandas as pd\n",
    "from statsmodels.formula.api import logit, probit\n",
    "\n",
    "from scipy.stats import chi2 # chi2-distribution & critical values\n",
    "\n",
    "# Do not show Warnings\n",
    "import warnings\n",
    "warnings.simplefilter(action='ignore', category=Warning)\n",
    "# Do not show ValueWarning, ConvergenceWarning из statsmodels\n",
    "from statsmodels.tools.sm_exceptions import ValueWarning, ConvergenceWarning\n",
    "warnings.simplefilter('ignore', category=ValueWarning)\n",
    "warnings.simplefilter('ignore', category=ConvergenceWarning)"
   ]
  },
  {
   "cell_type": "code",
   "execution_count": null,
   "id": "f86f1a22-4c78-4131-bcc7-a0d83bf6cbe9",
   "metadata": {},
   "outputs": [],
   "source": [
    "# data importing\n",
    "df = pd.read_csv('Filename.csv')"
   ]
  },
  {
   "cell_type": "markdown",
   "id": "71f611e6-a2d8-4fbb-81c7-c66fa68042de",
   "metadata": {},
   "source": [
    "## Specification and fitting"
   ]
  },
  {
   "cell_type": "code",
   "execution_count": null,
   "id": "7d2fa094-3099-44f2-a6e8-2c3fbb91220e",
   "metadata": {},
   "outputs": [],
   "source": [
    "mod = logit(formula = , data = df)\n",
    "# mod = probit(formula = , data = df)\n",
    "res = mod.fit(disp=False)"
   ]
  },
  {
   "cell_type": "markdown",
   "id": "20de0815-7ec1-43de-aebc-c4850dec1f9d",
   "metadata": {},
   "source": [
    "## LR-test: overall significance\n",
    "\n",
    "We test\n",
    "\n",
    "$$ H_0: \\beta_1=\\cdots=\\beta_k=0$$\n",
    "\n",
    "LR-statistics & its P-value"
   ]
  },
  {
   "cell_type": "code",
   "execution_count": null,
   "id": "815f6682-e053-4e4f-9f56-a8a94f2a24b0",
   "metadata": {},
   "outputs": [],
   "source": [
    "res.llr, res.llr_pvalue"
   ]
  },
  {
   "cell_type": "markdown",
   "id": "7097aee7-90a1-47cf-943c-635be383c5e9",
   "metadata": {},
   "source": [
    "degrees of freedom for $\\chi^2$-distribution "
   ]
  },
  {
   "cell_type": "code",
   "execution_count": null,
   "id": "58a5cb01-e0db-4971-80e6-46897bfea3c7",
   "metadata": {},
   "outputs": [],
   "source": [
    "res.df_model"
   ]
  },
  {
   "cell_type": "markdown",
   "id": "d3fbd2cb-55f0-4e5e-88f8-f84a33868dd8",
   "metadata": {},
   "source": [
    "critical value of $\\chi^2_{df}$"
   ]
  },
  {
   "cell_type": "code",
   "execution_count": null,
   "id": "df70039a-ce8e-4137-a197-b2040bcda9e3",
   "metadata": {},
   "outputs": [],
   "source": [
    "sign_level = 0.05\n",
    "chi2.isf(q=sign_level, df=res.df_model)"
   ]
  },
  {
   "cell_type": "markdown",
   "id": "e4addd5f-53d6-4667-9a95-94bd1a43e84d",
   "metadata": {},
   "source": [
    "## Details\n",
    "$LR=2(\\log L-\\log L_{null})$ where \n",
    "- $\\log L$ is log-likelihood for the fitted model\n",
    "- $\\log L_{null}$ is log-likelihood for the null model (without regressors)\n",
    "\n",
    "Report $\\log L, \\log L_{null}, 2(\\log L-\\log L_{null})$"
   ]
  },
  {
   "cell_type": "code",
   "execution_count": null,
   "id": "be5cedfd-f021-4aa5-af8e-70acc329c683",
   "metadata": {},
   "outputs": [],
   "source": [
    "res.llf, res.llnull, 2*(res.llf-res.llnull)"
   ]
  }
 ],
 "metadata": {
  "kernelspec": {
   "display_name": "Python 3 (ipykernel)",
   "language": "python",
   "name": "python3"
  },
  "language_info": {
   "codemirror_mode": {
    "name": "ipython",
    "version": 3
   },
   "file_extension": ".py",
   "mimetype": "text/x-python",
   "name": "python",
   "nbconvert_exporter": "python",
   "pygments_lexer": "ipython3",
   "version": "3.11.6"
  }
 },
 "nbformat": 4,
 "nbformat_minor": 5
}
